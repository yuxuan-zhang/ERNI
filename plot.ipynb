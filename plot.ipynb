{
 "cells": [
  {
   "cell_type": "code",
   "execution_count": 1,
   "metadata": {
    "collapsed": true
   },
   "outputs": [],
   "source": [
    "import _plot_functions\n",
    "import _functions\n",
    "import matplotlib.pyplot as plt\n",
    "import periodictable as pt\n",
    "from periodictable import constants\n",
    "import numpy as np\n",
    "\n",
    "\n",
    "# Parameters\n",
    "# _input = elements_str\n",
    "_input = 'UGd'  # input('Please input the chemicals? ')\n",
    "thick_mm = 1  # input('Please input the thickness in mm : ')\n",
    "_input_density = 0.7875  # g/cm3  not needed if _input is single element\n",
    "_database = 'ENDF_VIII'\n",
    "energy_max = 300  # max incident energy in eV\n",
    "energy_min = 0  # min incident energy in eV\n",
    "energy_sub = 100\n",
    "sub_x = energy_sub * (energy_max - energy_min)  # subdivided new x-axis\n",
    "# _multi_element = 'N'\n",
    "_energy_x_axis = 'Y'  # 1 means plot x-axis as energy in eV\n",
    "_trans_y_axis = 'N'  # 1 means plot y-axis as transmission\n",
    "_plot_each_ele_contribution = 'Y'  # 1 means plot each element's contribution\n",
    "_plot_each_iso_contribution = 'N'  # 1 means plot each isotope's contribution\n",
    "_plot_mixed = 'N'  # 1 means plot mixed resonance"
   ]
  },
  {
   "cell_type": "code",
   "execution_count": 2,
   "metadata": {},
   "outputs": [
    {
     "name": "stdout",
     "output_type": "stream",
     "text": [
      "Parsed chemical formula: {'U': 1, 'Gd': 1}\n",
      "Is there any unnatural mixture? N\n",
      "Is there any element with different thickness? N\n",
      "{'U': 1, 'Gd': 1}\n"
     ]
    }
   ],
   "source": [
    "formula_dict = _functions.input2formula(_input)  # Function called to parse input formula and return elements and ratios\n",
    "elements = _functions.dict_key_list(formula_dict)\n",
    "ratios = _functions.dict_value_list(formula_dict)\n",
    "all_ele_boo_dict = _functions.boo_dict(elements)  # Dict for natural mixture\n",
    "thick_boo_dict = _functions.boo_dict(elements)  # Dict for same thickness\n",
    "thick_mm_dict = _functions.thick_dict(elements, thick_mm)\n",
    "\n",
    "\n",
    "# For unnatural mixture elements:\n",
    "_unnatural_ele_input = input('Is there any unnatural mixture? ')\n",
    "if _unnatural_ele_input == 'Y':\n",
    "    unnatural_ratio_dicts = {}\n",
    "    unnatural_element_str = input('Please list all separated by only \" \": ')\n",
    "    unnatural_element = unnatural_element_str.split(' ')\n",
    "    all_ele_boo_dict = _functions.boo_dict_invert_by_key(unnatural_element, all_ele_boo_dict)\n",
    "    isotope_dict = _functions.get_isotope_dict(_database, unnatural_element)\n",
    "    print(isotope_dict)\n",
    "    for ele in unnatural_element:\n",
    "        isotopes = isotope_dict[ele]\n",
    "        unnatural_ratio_dict = {}\n",
    "        for iso in isotopes:\n",
    "            unnatural_ratio_dict[iso] = float(input('Atomic ratio of {} in mixture: '.format(iso)))\n",
    "        unnatural_ratio_dicts[ele] = unnatural_ratio_dict\n",
    "    # print(unnatural_ratio_dicts)\n",
    "\n",
    "# For sample with various thickness:\n",
    "_thick_input = input('Is there any element with different thickness? ')\n",
    "if _thick_input == 'Y':\n",
    "    resize_element_str = input('Please list all separated by only \" \": ')\n",
    "    resize_element = resize_element_str.split(' ')\n",
    "    all_ele_boo_dict = _functions.boo_dict_invert_by_key(resize_element, thick_boo_dict)\n",
    "    for ele in resize_element:\n",
    "        thick_mm_dict[ele] = float(input('Thickness of {} in mm: '.format(ele)))\n",
    "print(thick_mm_dict)\n",
    "\n",
    "\n",
    "if len(elements) == 1:\n",
    "    sample_density = pt.elements.isotope(_input).density  # g/cm3  https://en.wikipedia.org/wiki/Cadmium\n",
    "else:\n",
    "    # _input_density = 0.7875  # g/cm3  need to input while the _input is multi-element mixture\n",
    "    sample_density = _input_density  # input('Please input the density in g/cm3 : ')"
   ]
  },
  {
   "cell_type": "code",
   "execution_count": 3,
   "metadata": {},
   "outputs": [
    {
     "name": "stdout",
     "output_type": "stream",
     "text": [
      "Abundance_dicts:  {'U': {'233-U': 0.0, '234-U': 5.4999999999999995e-05, '235-U': 0.0072, '238-U': 0.992745}, 'Gd': {'152-Gd': 0.002, '154-Gd': 0.0218, '155-Gd': 0.14800000000000002, '156-Gd': 0.2047, '157-Gd': 0.1565, '158-Gd': 0.2484, '160-Gd': 0.2186}}\n"
     ]
    }
   ],
   "source": [
    "mass_iso_ele_dict = {}  # For number of atoms per cm3 calculation\n",
    "y_i_iso_ele_dicts = {}  # For transmission calculation at isotope lever\n",
    "y_i_iso_ele_sum_dict = {}  # For transmission calculation at element lever\n",
    "df_raw_dict = {}  # Raw sigma data for elements and isotopes\n",
    "isotopes_dict = {}  # List all isotopes for each element involved\n",
    "abundance_dicts = {}  # List all natural abundance for each isotope of each element involved\n",
    "all_ratio_dicts = {}\n",
    "# unnatural_ratio_dicts = _functions.empty_dict(elements)  # empty with value of 1 no meaning\n",
    "for _each_ in elements:\n",
    "    _element = _each_\n",
    "    ele_at_ratio = formula_dict[_each_] / sum(ratios)\n",
    "    # Get pre info (isotopes, abundance, mass, density) of each element from the formula\n",
    "    isotopes_dict[_each_], all_ratio_dicts[_each_], iso_abundance, iso_density, iso_mass, abundance_dict, density_dict, mass_dict, file_names = \\\n",
    "        _plot_functions.get_pre_data(_database, _element)\n",
    "\n",
    "    if _unnatural_ele_input == 'Y':\n",
    "        if _each_ in unnatural_ratio_dicts:\n",
    "            all_ratio_dicts[_each_] = unnatural_ratio_dicts[_each_]\n",
    "\n",
    "    mass_iso_ele_dict[_each_] = _plot_functions.get_mass_iso_ele(iso_abundance, iso_mass, ele_at_ratio,\n",
    "                                                                 all_ele_boo_dict[_each_],\n",
    "                                                                 all_ratio_dicts[_each_])\n",
    "\n",
    "    x_energy, y_i_iso_ele_dict, y_i_iso_ele_sum, df_raw_dict[_each_] = \\\n",
    "        _plot_functions.get_xy(isotopes_dict[_each_], file_names, energy_min, energy_max, iso_abundance,\n",
    "                               sub_x, ele_at_ratio, all_ele_boo_dict[_each_], all_ratio_dicts[_each_])\n",
    "    y_i_iso_ele_dicts[_each_] = y_i_iso_ele_dict\n",
    "    y_i_iso_ele_sum_dict[_each_] = y_i_iso_ele_sum\n",
    "\n",
    "print('Abundance_dicts: ', all_ratio_dicts)\n",
    "# print(mass_iso_ele_dict)\n",
    "# print(ele_at_ratio)\n",
    "\n",
    "mass_iso_ele_list = list(dict.values(mass_iso_ele_dict))\n",
    "mass_iso_ele_sum = sum(np.array(mass_iso_ele_list))\n",
    "mixed_atoms_per_cm3 = sample_density * pt.constants.avogadro_number/mass_iso_ele_sum\n",
    "# Use function: mixed_atoms_per_cm3 = _functions.atoms_per_cm3(density=sample_density, mass=mass_iso_ele_sum)\n",
    "\n",
    "keys = list(dict.keys(y_i_iso_ele_sum_dict))\n",
    "yi_values = list(dict.values(y_i_iso_ele_sum_dict))\n",
    "yi_values_sum = sum(yi_values)\n",
    "trans_sum = _functions.sig2trans_quick(thick_mm, mixed_atoms_per_cm3, yi_values_sum)\n",
    "y_trans_tot = trans_sum\n",
    "# print(y_i_iso_ele_sum_dict)"
   ]
  },
  {
   "cell_type": "code",
   "execution_count": 4,
   "metadata": {
    "collapsed": true
   },
   "outputs": [],
   "source": [
    "### Create the trans or absorb dict of ele for plotting if needed\n",
    "if _plot_each_ele_contribution == 'Y':\n",
    "    y_ele_dict = {}\n",
    "    for _ele in elements:\n",
    "        if _trans_y_axis == 'Y':\n",
    "            y_ele_dict[_ele] = _functions.sig2trans_quick(thick_mm, mixed_atoms_per_cm3, y_i_iso_ele_sum_dict[_ele])\n",
    "        else:\n",
    "            y_ele_dict[_ele] = 1 - _functions.sig2trans_quick(thick_mm, mixed_atoms_per_cm3, y_i_iso_ele_sum_dict[_ele])\n",
    "\n",
    "### Create the trans or absorb dict : y_iso_dicts of isotopes for plotting if needed\n",
    "if _plot_each_iso_contribution == 'Y':\n",
    "    y_iso_dicts = {}\n",
    "    y_iso_dict = {}\n",
    "    for _ele in elements:\n",
    "        for _iso in isotopes_dict[_ele]:\n",
    "            if _trans_y_axis == 'Y':\n",
    "                y_iso_dict[_iso] = _functions.sig2trans_quick(thick_mm, mixed_atoms_per_cm3,\n",
    "                                                              y_i_iso_ele_dicts[_ele][_iso])\n",
    "            else:\n",
    "                y_iso_dict[_iso] = 1 - _functions.sig2trans_quick(thick_mm, mixed_atoms_per_cm3,\n",
    "                                                                  y_i_iso_ele_dicts[_ele][_iso])\n",
    "        y_iso_dicts[_ele] = y_iso_dict\n",
    "        y_iso_dict = {}  # Clear for following set of isotopes\n",
    "    # print(y_iso_dicts)"
   ]
  },
  {
   "cell_type": "code",
   "execution_count": 5,
   "metadata": {
    "collapsed": true
   },
   "outputs": [],
   "source": [
    "### Determine x y axis types and captions\n",
    "if _energy_x_axis == 'Y':\n",
    "    _x_axis = x_energy\n",
    "    _x_words = 'Energy (eV)'\n",
    "else:\n",
    "    _x_axis = _functions.ev2lamda(x_energy)\n",
    "    _x_words = 'Wavelength (Å)'\n",
    "\n",
    "if _trans_y_axis == 'Y':\n",
    "    _y_words = 'Neutron transmission'\n",
    "else:\n",
    "    _y_words = 'Neutron attenuation'\n",
    "\n",
    "### Determine x y axis values\n",
    "if _plot_mixed == 'Y':\n",
    "    if _trans_y_axis == 'Y':\n",
    "        _y_axis = y_trans_tot\n",
    "    else:\n",
    "        _y_axis = 1 - y_trans_tot\n",
    "    plt.plot(_x_axis, _y_axis, label=_input)\n",
    "\n",
    "if _plot_each_ele_contribution == 'Y':\n",
    "    for _ele in elements:\n",
    "        _y_each_axis = y_ele_dict[_ele]\n",
    "        plt.plot(_x_axis, _y_each_axis, label=_ele)\n",
    "\n",
    "if _plot_each_iso_contribution == 'Y':\n",
    "    for _ele in elements:\n",
    "        for _iso in isotopes_dict[_ele]:\n",
    "            _y_each_axis = y_iso_dicts[_ele][_iso]\n",
    "            plt.plot(_x_axis, _y_each_axis, label=_iso)"
   ]
  },
  {
   "cell_type": "code",
   "execution_count": 6,
   "metadata": {},
   "outputs": [
    {
     "data": {
      "image/png": "[encoded data removed]",
      "text/plain": [
       "<matplotlib.figure.Figure at 0x1037a4128>"
      ]
     },
     "metadata": {},
     "output_type": "display_data"
    }
   ],
   "source": [
    "plt.ylim(-0.01, 1.01)\n",
    "plt.xlabel(_x_words)\n",
    "plt.ylabel(_y_words)\n",
    "plt.legend(loc='best')\n",
    "plt.show()"
   ]
  },
  {
   "cell_type": "code",
   "execution_count": null,
   "metadata": {
    "collapsed": true
   },
   "outputs": [],
   "source": []
  }
 ],
 "metadata": {
  "kernelspec": {
   "display_name": "Python 3",
   "language": "python",
   "name": "python3"
  },
  "language_info": {
   "codemirror_mode": {
    "name": "ipython",
    "version": 3
   },
   "file_extension": ".py",
   "mimetype": "text/x-python",
   "name": "python",
   "nbconvert_exporter": "python",
   "pygments_lexer": "ipython3",
   "version": "3.6.1"
  }
 },
 "nbformat": 4,
 "nbformat_minor": 2
}
